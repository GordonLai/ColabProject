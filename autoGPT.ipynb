{
  "nbformat": 4,
  "nbformat_minor": 0,
  "metadata": {
    "colab": {
      "provenance": [],
      "authorship_tag": "ABX9TyOSdBhJhbE5UgDWbl0xYDAJ",
      "include_colab_link": true
    },
    "kernelspec": {
      "name": "python3",
      "display_name": "Python 3"
    },
    "language_info": {
      "name": "python"
    },
    "gpuClass": "standard"
  },
  "cells": [
    {
      "cell_type": "markdown",
      "metadata": {
        "id": "view-in-github",
        "colab_type": "text"
      },
      "source": [
        "<a href=\"https://colab.research.google.com/github/GordonLai/autoGPT-in-Colab/blob/main/autoGPT.ipynb\" target=\"_parent\"><img src=\"https://colab.research.google.com/assets/colab-badge.svg\" alt=\"Open In Colab\"/></a>"
      ]
    },
    {
      "cell_type": "markdown",
      "source": [
        "Token 請在官網申請 https://platform.openai.com/account/api-keys\n",
        "\n",
        "Name Your AI: 這是輸入你的AI名稱\n",
        "\n",
        "Describe your AI's Role: 這是輸入AI 主要的完整目的\n",
        "\n",
        "Enter up to 5 Goals for you AI: 這是輸入5個完成的條件，如果條件不到5個，下一個空白就會直接執行\n",
        "\n",
        "如果執行途中出現 y -N 這是代表首次完成的循環已結束，如要繼續請在輸入 y -次數, 比如 y -100 這樣會執行 100次"
      ],
      "metadata": {
        "id": "LmnaI7UL8XRq"
      }
    },
    {
      "cell_type": "code",
      "execution_count": null,
      "metadata": {
        "id": "RLq_kcDsirvz"
      },
      "outputs": [],
      "source": [
        "%cd /content\n",
        "!git clone https://github.com/Torantulino/Auto-GPT.git /content/Auto-GPT\n",
        "%cd Auto-GPT\n",
        "!pip install -r requirements.txt\n",
        "!mv .env.template .env\n",
        "openAIToken = \"\" #@param {type: \"string\"}\n",
        "\n",
        "import sys\n",
        "if (openAIToken == ''):\n",
        "  sys.exit(\"請輸入 openAIToken\")\n",
        "\n",
        "!sed -i 's/OPENAI_API_KEY=your-openai-api-key/OPENAI_API_KEY='+openAIToken+'/g' .env\n",
        "!python -m autogpt"
      ]
    },
    {
      "cell_type": "code",
      "source": [
        "# 將執行完的檔案進行打包壓縮\n",
        "!tar -czvf /content/$(date +%Y%m%d).tar.gz /content/Auto-GPT/auto_gpt_workspace /content/Auto-GPT/logs\n",
        "\n",
        "# - `-c` 建立一個新的壓縮文件\n",
        "# - `-z` 表示使用 gzip 壓縮算法進行壓縮\n",
        "# - `-v` 執行時輸出詳細資訊\n",
        "# - `-f` 指定文件名稱"
      ],
      "metadata": {
        "id": "SGAFa1Alu3XS"
      },
      "execution_count": null,
      "outputs": []
    }
  ]
}